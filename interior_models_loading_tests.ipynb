{
 "cells": [
  {
   "cell_type": "code",
   "execution_count": 1,
   "id": "28a4ef8c-a322-4eea-ac7d-9955baeaaf8d",
   "metadata": {},
   "outputs": [],
   "source": [
    "import numpy as np\n",
    "\n",
    "import sweet_loader as sweet\n",
    "import iop_loader as iop\n",
    "import lf14_loader as lf14"
   ]
  },
  {
   "cell_type": "code",
   "execution_count": 2,
   "id": "4581a9a6-37a2-4290-9e5e-5b51199ae0df",
   "metadata": {},
   "outputs": [
    {
     "name": "stdout",
     "output_type": "stream",
     "text": [
      "LF 14 tests\n",
      "\n",
      "2.1220043675752893\n",
      "[2.12200437 2.11039924 2.19174063 2.28150328 2.35466958]\n"
     ]
    }
   ],
   "source": [
    "# LF14 model\n",
    "print(\"LF 14 tests\")\n",
    "print()\n",
    "\n",
    "# Testing single value\n",
    "met = 1 # times solar\n",
    "age = 1 # Gyr\n",
    "teq = 500 # K\n",
    "mp = 1 # Me\n",
    "fenv = 1 # %\n",
    "print(lf14.radius_lf14(met,age,teq,mp,fenv))\n",
    "\n",
    "# Testing array\n",
    "met = 1 # times solar\n",
    "age = 1 # Gyr\n",
    "teq = 500 # K\n",
    "mp = np.linspace(1,10,5)\n",
    "fenv = 1 # %\n",
    "print(lf14.radius_lf14(met,age,teq,mp,fenv))"
   ]
  },
  {
   "cell_type": "code",
   "execution_count": 3,
   "id": "6df1e28e-bb44-48df-bf47-48084c5933d5",
   "metadata": {},
   "outputs": [
    {
     "name": "stdout",
     "output_type": "stream",
     "text": [
      "IOP test\n",
      "\n",
      "From grid:  2.105979862309209\n",
      "From fit:   [2.09875027]\n",
      "\n",
      "From grid:  [2.10597986 2.15516479 2.31842334 2.45396719 2.56453221]\n",
      "From fit:   [2.09875027 2.15509749 2.32022447 2.45461576 2.56616438]\n",
      "\n",
      "Warning in 'radius_iop_grid': some planet radii have errcode >0 with parameters 0.325, 0.500, 500.0 K\n",
      "From grid:  [-0.25824901  2.87515019  2.54416627  2.2197138   2.10597986]\n",
      "From fit:   [107.50353304   3.78613321   2.50370307   2.20484626   2.09875027]\n",
      "\n",
      "Mass array: [ 0.85848753  5.81315572 10.76782391 15.7224921  20.67716029]\n",
      "From grid:  [2.15293965 2.3392834  2.59811523 2.78810175 2.9341287 ]\n",
      "From fit:   [2.15340795 2.34062767 2.600287   2.7866856  2.9335996 ]\n"
     ]
    }
   ],
   "source": [
    "# IOP model - grid versus fit\n",
    "print(\"IOP test\")\n",
    "print()\n",
    "\n",
    "# Testing single value\n",
    "cmf = 0.325\n",
    "wmf = 0.5\n",
    "teq = 500 # K\n",
    "mp = 1 # Me\n",
    "print(\"From grid: \",iop.radius_iop_grid(cmf,wmf,teq,mp))\n",
    "print(\"From fit:  \",iop.radius_iop_fit(cmf,wmf,teq,mp))\n",
    "print()\n",
    "\n",
    "# Testing array\n",
    "cmf = 0.325\n",
    "wmf = 0.5\n",
    "teq = 500 # K\n",
    "mp = np.linspace(1,10,5)\n",
    "print(\"From grid: \",iop.radius_iop_grid(cmf,wmf,teq,mp))\n",
    "print(\"From fit:  \",iop.radius_iop_fit(cmf,wmf,teq,mp))\n",
    "print()\n",
    "\n",
    "# Testing errcode. Warning: errors are not triggered when asked point is outside validty range, only if interior model actually failed\n",
    "cmf = 0.325\n",
    "wmf = 0.5\n",
    "teq = 500 # K\n",
    "mp = np.linspace(.1,1,5)\n",
    "print(\"From grid: \",iop.radius_iop_grid(cmf,wmf,teq,mp))\n",
    "print(\"From fit:  \",iop.radius_iop_fit(cmf,wmf,teq,mp))\n",
    "print()\n",
    "\n",
    "# Recommended workflow for the fit: obtain the boundaries where the mass is valid\n",
    "cmf = 0.325\n",
    "wmf = 0.5\n",
    "teq = 500 # K\n",
    "mass_min = iop.interp_masslimlow([cmf,teq,wmf]).item()\n",
    "mass_max = iop.interp_masslimhigh([cmf,teq,wmf]).item()\n",
    "mp = np.linspace(mass_min,mass_max,5)\n",
    "print(\"Mass array:\",mp)\n",
    "print(\"From grid: \",iop.radius_iop_grid(cmf,wmf,teq,mp))\n",
    "print(\"From fit:  \",iop.radius_iop_fit(cmf,wmf,teq,mp))"
   ]
  },
  {
   "cell_type": "code",
   "execution_count": null,
   "id": "884880d3-60f3-4897-8a47-e0bf13c83aa2",
   "metadata": {},
   "outputs": [],
   "source": []
  }
 ],
 "metadata": {
  "kernelspec": {
   "display_name": "Python 3 (ipykernel)",
   "language": "python",
   "name": "python3"
  },
  "language_info": {
   "codemirror_mode": {
    "name": "ipython",
    "version": 3
   },
   "file_extension": ".py",
   "mimetype": "text/x-python",
   "name": "python",
   "nbconvert_exporter": "python",
   "pygments_lexer": "ipython3",
   "version": "3.12.9"
  }
 },
 "nbformat": 4,
 "nbformat_minor": 5
}
